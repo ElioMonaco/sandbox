{
    "metadata": {
        "kernelspec": {
            "name": "SQL",
            "display_name": "SQL",
            "language": "sql"
        },
        "language_info": {
            "name": "sql",
            "version": ""
        }
    },
    "nbformat_minor": 2,
    "nbformat": 4,
    "cells": [
        {
            "cell_type": "code",
            "source": [
                "#https://www.youtube.com/watch?v=ntGrOburPdQ\r\n",
                "\r\n",
                "import pandas as pd\r\n",
                "from binance.client import Client"
            ],
            "metadata": {
                "azdata_cell_guid": "2659ff1e-c12c-4f7e-9b0c-3bd08c388407",
                "language": "sql",
                "tags": []
            },
            "outputs": [],
            "execution_count": null
        },
        {
            "cell_type": "code",
            "source": [
                "client = Client()\r\n",
                "cols = [\r\n",
                "    \"Time\"\r\n",
                "    ,\"Open\"\r\n",
                "    ,\"High\"\r\n",
                "    ,\"Low\"\r\n",
                "    ,\"Close\"\r\n",
                "    ,\"Volume\"\r\n",
                "]\r\n",
                "symbol = \"BTCUSDT\"\r\n",
                "data_interval = \"1h\"\r\n",
                "start_time = \"2023-01-01\"\r\n",
                "return_threshold = .01\r\n",
                "stop_loss = .98\r\n",
                "trading_fee = .0015\r\n",
                "budget = 500"
            ],
            "metadata": {
                "azdata_cell_guid": "9486a8af-9cea-4073-b672-388f365a2823",
                "language": "sql"
            },
            "outputs": [],
            "execution_count": null
        },
        {
            "cell_type": "code",
            "source": [
                "def get_coin_historical_data(symbol, start_time, data_interval, df_columns):\r\n",
                "\r\n",
                "    frame = pd.DataFrame(client.get_historical_klines(\r\n",
                "        symbol\r\n",
                "        ,data_interval\r\n",
                "        ,start_time\r\n",
                "    ))\r\n",
                "    frame = frame.iloc[:,:len(df_columns)]\r\n",
                "    frame.columns = df_columns\r\n",
                "    frame[\"Datetime\"] = pd.to_datetime(frame[df_columns[0]], unit = \"ms\")\r\n",
                "    return frame\r\n",
                "\r\n",
                "# percentage change between one price to the next\r\n",
                "def get_returns_and_shift(df, field):\r\n",
                "    df[\"Price\"] = df[\"Open\"].shift(-1)\r\n",
                "    df[field + \"Returns\"] = df[field].astype(float).pct_change()\r\n",
                "    return df.dropna()\r\n",
                "\r\n",
                "def get_hisotrical_profits(df, return_column, return_threshold, stop_loss, trading_fee):\r\n",
                "    profits = []\r\n",
                "    # whether I am in a position of buying\r\n",
                "    in_position = False\r\n",
                "\r\n",
                "    for indes, row in df.iterrows():\r\n",
                "\r\n",
                "        # If I am not already in a buying position and the price has raised more then the percentage I want, then set the buy price to the next available open\r\n",
                "        if not in_position and row[return_column] > return_threshold:\r\n",
                "            buy_price = float(row[\"Price\"])\r\n",
                "            in_position = True\r\n",
                "            # set trailing stop, i.e. threshold below which you want to sell\r\n",
                "            trailing_stop = buy_price * stop_loss\r\n",
                "        if in_position:\r\n",
                "            # if the price is increasing, redefine the trailing stop\r\n",
                "            if float(row[\"Close\"]) * stop_loss >= trailing_stop:\r\n",
                "                trailing_stop = float(row[\"Close\"]) * stop_loss\r\n",
                "            if float(row[\"Close\"]) <= trailing_stop:\r\n",
                "                sell_price = float(row[\"Close\"])\r\n",
                "                profit = (sell_price - buy_price) / buy_price - trading_fee\r\n",
                "                profits.append(profit)\r\n",
                "                in_position = False\r\n",
                "    return profits\r\n",
                "\r\n",
                "def historical_absolute_profits(profits, budget):\r\n",
                "    history = []\r\n",
                "    for item in range(len(profits)):\r\n",
                "        budget = budget * (1 + profits[item])\r\n",
                "        history.append(budget)\r\n",
                "    return history\r\n",
                "\r\n",
                "def get_cumulative_profits(profits):\r\n",
                "    return (pd.Series(profits) + 1).cumprod()"
            ],
            "metadata": {
                "language": "sql",
                "azdata_cell_guid": "75558c94-0293-4511-8da5-42140e9dfe9e"
            },
            "outputs": [],
            "execution_count": null
        },
        {
            "cell_type": "code",
            "source": [
                "hisotrical_data = get_coin_historical_data(\r\n",
                "    symbol = symbol\r\n",
                "    ,start_time = start_time\r\n",
                "    ,data_interval = data_interval\r\n",
                "    ,df_columns = cols\r\n",
                ")\r\n",
                "hisotrical_data"
            ],
            "metadata": {
                "language": "sql",
                "azdata_cell_guid": "e4c7ea7e-c102-4d25-876a-e26944f8754a"
            },
            "outputs": [],
            "execution_count": null
        },
        {
            "cell_type": "code",
            "source": [
                "hisotrical_data = get_returns_and_shift(hisotrical_data, \"Close\")\r\n",
                "hisotrical_data.head()"
            ],
            "metadata": {
                "language": "sql",
                "azdata_cell_guid": "9ab521e3-183e-4404-b161-efe5332417df"
            },
            "outputs": [],
            "execution_count": null
        },
        {
            "cell_type": "code",
            "source": [
                "profits = get_hisotrical_profits(\r\n",
                "    df = hisotrical_data\r\n",
                "    ,return_column = \"CloseReturns\"\r\n",
                "    ,return_threshold = return_threshold\r\n",
                "    ,stop_loss = stop_loss\r\n",
                "    ,trading_fee = trading_fee\r\n",
                ")\r\n",
                "profits"
            ],
            "metadata": {
                "language": "sql",
                "azdata_cell_guid": "91963e30-6bb7-4948-b7b1-4b9036f047a6"
            },
            "outputs": [],
            "execution_count": null
        },
        {
            "cell_type": "code",
            "source": [
                "absolute_profits = historical_absolute_profits(\r\n",
                "    profits = profits\r\n",
                "    ,budget = budget\r\n",
                ")\r\n",
                "absolute_profits"
            ],
            "metadata": {
                "language": "sql",
                "azdata_cell_guid": "c95bd6fa-fe52-48ea-b5c7-35b6ebf220e2"
            },
            "outputs": [],
            "execution_count": null
        },
        {
            "cell_type": "code",
            "source": [
                "cum_profits = get_cumulative_profits(profits)\r\n",
                "cum_profits"
            ],
            "metadata": {
                "language": "sql",
                "azdata_cell_guid": "21fff483-b004-4acb-bf4c-bbce2d3b42f3"
            },
            "outputs": [],
            "execution_count": null
        }
    ]
}